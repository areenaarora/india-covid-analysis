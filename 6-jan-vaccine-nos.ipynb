{
 "cells": [
  {
   "cell_type": "code",
   "execution_count": 1,
   "id": "97015342",
   "metadata": {},
   "outputs": [
    {
     "name": "stderr",
     "output_type": "stream",
     "text": [
      "/Users/areena.arora/.pyenv/versions/3.10.0/lib/python3.10/site-packages/pandas/compat/__init__.py:124: UserWarning: Could not import the lzma module. Your installed Python is incomplete. Attempting to use lzma compression will result in a RuntimeError.\n",
      "  warnings.warn(msg)\n"
     ]
    }
   ],
   "source": [
    "import pandas as pd"
   ]
  },
  {
   "cell_type": "code",
   "execution_count": 2,
   "id": "6b851887",
   "metadata": {},
   "outputs": [
    {
     "name": "stderr",
     "output_type": "stream",
     "text": [
      "/Users/areena.arora/.pyenv/versions/3.10.0/lib/python3.10/site-packages/openpyxl/styles/stylesheet.py:226: UserWarning: Workbook contains no default style, apply openpyxl's default\n",
      "  warn(\"Workbook contains no default style, apply openpyxl's default\")\n"
     ]
    }
   ],
   "source": [
    "df_vaccines = pd.read_excel(\"COV_vaccine_report_6Jan.xlsx\")"
   ]
  },
  {
   "cell_type": "code",
   "execution_count": 3,
   "id": "3b039332",
   "metadata": {},
   "outputs": [],
   "source": [
    "df_vaccines.columns = ['sr_no', 'state', 'first_dose' , 'second_dose', 'total_doses' , '15_18_first_dose']\n",
    "df_vaccines = df_vaccines.iloc[9:]"
   ]
  },
  {
   "cell_type": "code",
   "execution_count": 4,
   "id": "f99cc31b",
   "metadata": {},
   "outputs": [
    {
     "data": {
      "text/plain": [
       "sr_no               object\n",
       "state               object\n",
       "first_dose          object\n",
       "second_dose         object\n",
       "total_doses         object\n",
       "15_18_first_dose    object\n",
       "dtype: object"
      ]
     },
     "execution_count": 4,
     "metadata": {},
     "output_type": "execute_result"
    }
   ],
   "source": [
    "df_vaccines.dtypes"
   ]
  },
  {
   "cell_type": "code",
   "execution_count": 5,
   "id": "fa339bcb",
   "metadata": {},
   "outputs": [],
   "source": [
    "cols_to_check = ['first_dose', 'second_dose', 'total_doses', '15_18_first_dose']"
   ]
  },
  {
   "cell_type": "code",
   "execution_count": 6,
   "id": "e2e909fd",
   "metadata": {},
   "outputs": [],
   "source": [
    "df_vaccines[cols_to_check] = df_vaccines[cols_to_check].replace({',':''}, regex=True)"
   ]
  },
  {
   "cell_type": "code",
   "execution_count": 7,
   "id": "cf54dcae",
   "metadata": {},
   "outputs": [],
   "source": [
    "df_vaccines[cols_to_check] = df_vaccines[cols_to_check].astype(str).astype(int)"
   ]
  },
  {
   "cell_type": "code",
   "execution_count": 8,
   "id": "f0f4c665",
   "metadata": {},
   "outputs": [],
   "source": [
    "# Next step: Making a heat map of which states have highest total doses given and \n",
    "# how that compares to how quickly 15-18 year olds are getting vaccinated"
   ]
  },
  {
   "cell_type": "code",
   "execution_count": 9,
   "id": "56382332",
   "metadata": {},
   "outputs": [],
   "source": [
    "# df.sort_values(by='total_doses', ascending=False)"
   ]
  },
  {
   "cell_type": "code",
   "execution_count": 10,
   "id": "ce09cd47",
   "metadata": {},
   "outputs": [
    {
     "data": {
      "text/html": [
       "<div>\n",
       "<style scoped>\n",
       "    .dataframe tbody tr th:only-of-type {\n",
       "        vertical-align: middle;\n",
       "    }\n",
       "\n",
       "    .dataframe tbody tr th {\n",
       "        vertical-align: top;\n",
       "    }\n",
       "\n",
       "    .dataframe thead th {\n",
       "        text-align: right;\n",
       "    }\n",
       "</style>\n",
       "<table border=\"1\" class=\"dataframe\">\n",
       "  <thead>\n",
       "    <tr style=\"text-align: right;\">\n",
       "      <th></th>\n",
       "      <th>sr_no</th>\n",
       "      <th>state</th>\n",
       "      <th>first_dose</th>\n",
       "      <th>second_dose</th>\n",
       "      <th>total_doses</th>\n",
       "      <th>15_18_first_dose</th>\n",
       "    </tr>\n",
       "  </thead>\n",
       "  <tbody>\n",
       "    <tr>\n",
       "      <th>9</th>\n",
       "      <td>1</td>\n",
       "      <td>A &amp; N Islands</td>\n",
       "      <td>303014</td>\n",
       "      <td>295445</td>\n",
       "      <td>598459</td>\n",
       "      <td>8198</td>\n",
       "    </tr>\n",
       "    <tr>\n",
       "      <th>10</th>\n",
       "      <td>2</td>\n",
       "      <td>Andhra Pradesh</td>\n",
       "      <td>40040106</td>\n",
       "      <td>30341059</td>\n",
       "      <td>70381165</td>\n",
       "      <td>1563014</td>\n",
       "    </tr>\n",
       "    <tr>\n",
       "      <th>11</th>\n",
       "      <td>3</td>\n",
       "      <td>Arunachal Pradesh</td>\n",
       "      <td>810353</td>\n",
       "      <td>654613</td>\n",
       "      <td>1464966</td>\n",
       "      <td>8685</td>\n",
       "    </tr>\n",
       "    <tr>\n",
       "      <th>12</th>\n",
       "      <td>4</td>\n",
       "      <td>Assam</td>\n",
       "      <td>21886756</td>\n",
       "      <td>16193435</td>\n",
       "      <td>38080191</td>\n",
       "      <td>433952</td>\n",
       "    </tr>\n",
       "    <tr>\n",
       "      <th>13</th>\n",
       "      <td>5</td>\n",
       "      <td>Bihar</td>\n",
       "      <td>58366285</td>\n",
       "      <td>43160749</td>\n",
       "      <td>101527034</td>\n",
       "      <td>1103844</td>\n",
       "    </tr>\n",
       "  </tbody>\n",
       "</table>\n",
       "</div>"
      ],
      "text/plain": [
       "   sr_no              state  first_dose  second_dose  total_doses  \\\n",
       "9      1      A & N Islands      303014       295445       598459   \n",
       "10     2     Andhra Pradesh    40040106     30341059     70381165   \n",
       "11     3  Arunachal Pradesh      810353       654613      1464966   \n",
       "12     4              Assam    21886756     16193435     38080191   \n",
       "13     5              Bihar    58366285     43160749    101527034   \n",
       "\n",
       "    15_18_first_dose  \n",
       "9               8198  \n",
       "10           1563014  \n",
       "11              8685  \n",
       "12            433952  \n",
       "13           1103844  "
      ]
     },
     "execution_count": 10,
     "metadata": {},
     "output_type": "execute_result"
    }
   ],
   "source": [
    "df_vaccines.head(5)"
   ]
  },
  {
   "cell_type": "code",
   "execution_count": 11,
   "id": "81daa86e",
   "metadata": {},
   "outputs": [],
   "source": [
    "df_vaccines.to_excel(\"vaccines_jan6.xlsx\")"
   ]
  }
 ],
 "metadata": {
  "kernelspec": {
   "display_name": "Python 3 (ipykernel)",
   "language": "python",
   "name": "python3"
  },
  "language_info": {
   "codemirror_mode": {
    "name": "ipython",
    "version": 3
   },
   "file_extension": ".py",
   "mimetype": "text/x-python",
   "name": "python",
   "nbconvert_exporter": "python",
   "pygments_lexer": "ipython3",
   "version": "3.10.0"
  }
 },
 "nbformat": 4,
 "nbformat_minor": 5
}
