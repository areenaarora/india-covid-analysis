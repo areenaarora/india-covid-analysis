{
 "cells": [
  {
   "cell_type": "code",
   "execution_count": 1,
   "id": "0a7d537c",
   "metadata": {},
   "outputs": [],
   "source": [
    "from pdfminer.high_level import extract_text\n",
    "import re"
   ]
  },
  {
   "cell_type": "code",
   "execution_count": 2,
   "id": "2f33dfa0",
   "metadata": {},
   "outputs": [],
   "source": [
    "# text = extract_text('COV_vaccine_report_6Jan.pdf')"
   ]
  },
  {
   "cell_type": "code",
   "execution_count": 15,
   "id": "739f5940",
   "metadata": {},
   "outputs": [],
   "source": [
    "# text"
   ]
  },
  {
   "cell_type": "code",
   "execution_count": 12,
   "id": "f51c5129",
   "metadata": {},
   "outputs": [],
   "source": [
    "# import re"
   ]
  },
  {
   "cell_type": "code",
   "execution_count": 14,
   "id": "cfa8e2f8",
   "metadata": {},
   "outputs": [],
   "source": [
    "# print(text)"
   ]
  },
  {
   "cell_type": "code",
   "execution_count": 16,
   "id": "880bbf25",
   "metadata": {},
   "outputs": [],
   "source": [
    "# import pdfplumber"
   ]
  },
  {
   "cell_type": "code",
   "execution_count": 23,
   "id": "7f6a9ef6",
   "metadata": {},
   "outputs": [
    {
     "name": "stdout",
     "output_type": "stream",
     "text": [
      "[<Page:1>]\n"
     ]
    }
   ],
   "source": [
    "# with pdfplumber.open('COV_vaccine_report_6Jan.pdf') as pdf:\n",
    "#     first_page = pdf.pages\n",
    "#     print(first_page)"
   ]
  },
  {
   "cell_type": "code",
   "execution_count": 24,
   "id": "78e087d8",
   "metadata": {},
   "outputs": [],
   "source": [
    "from io import StringIO"
   ]
  },
  {
   "cell_type": "code",
   "execution_count": 25,
   "id": "7308ea05",
   "metadata": {},
   "outputs": [],
   "source": [
    "from pdfminer.high_level import extract_text_to_fp\n",
    "from pdfminer.layout import LAParams\n",
    "output = StringIO()\n",
    "with open('COV_vaccine_report_6Jan.pdf', 'rb') as pdf_file:\n",
    "    extract_text_to_fp(pdf_file, output, laparams=LAParams(), output_type='html', codec=None)\n",
    "with open('COV_vaccine_report_6Jan.pdf', 'a') as html_file:\n",
    "    html_file.write(output.getvalue())"
   ]
  },
  {
   "cell_type": "code",
   "execution_count": 30,
   "id": "be87367b",
   "metadata": {},
   "outputs": [
    {
     "ename": "ValueError",
     "evalue": "I/O operation on closed file.",
     "output_type": "error",
     "traceback": [
      "\u001b[0;31m---------------------------------------------------------------------------\u001b[0m",
      "\u001b[0;31mValueError\u001b[0m                                Traceback (most recent call last)",
      "\u001b[0;32m/var/folders/81/2s24wkdd02j9528vnjsx7m080000gn/T/ipykernel_2077/381413010.py\u001b[0m in \u001b[0;36m<module>\u001b[0;34m\u001b[0m\n\u001b[0;32m----> 1\u001b[0;31m \u001b[0mhtml_file\u001b[0m\u001b[0;34m.\u001b[0m\u001b[0mwrite\u001b[0m\u001b[0;34m(\u001b[0m\u001b[0moutput\u001b[0m\u001b[0;34m.\u001b[0m\u001b[0mgetvalue\u001b[0m\u001b[0;34m(\u001b[0m\u001b[0;34m)\u001b[0m\u001b[0;34m)\u001b[0m\u001b[0;34m\u001b[0m\u001b[0;34m\u001b[0m\u001b[0m\n\u001b[0m",
      "\u001b[0;31mValueError\u001b[0m: I/O operation on closed file."
     ]
    }
   ],
   "source": [
    "html_file.write(output.getvalue())"
   ]
  },
  {
   "cell_type": "code",
   "execution_count": null,
   "id": "5ac542c4",
   "metadata": {},
   "outputs": [],
   "source": []
  }
 ],
 "metadata": {
  "kernelspec": {
   "display_name": "Python 3 (ipykernel)",
   "language": "python",
   "name": "python3"
  },
  "language_info": {
   "codemirror_mode": {
    "name": "ipython",
    "version": 3
   },
   "file_extension": ".py",
   "mimetype": "text/x-python",
   "name": "python",
   "nbconvert_exporter": "python",
   "pygments_lexer": "ipython3",
   "version": "3.10.0"
  }
 },
 "nbformat": 4,
 "nbformat_minor": 5
}
