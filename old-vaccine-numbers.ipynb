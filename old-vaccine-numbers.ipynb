{
 "cells": [
  {
   "cell_type": "code",
   "execution_count": 1,
   "id": "0a7d537c",
   "metadata": {},
   "outputs": [],
   "source": [
    "from pdfminer.high_level import extract_text\n",
    "import re"
   ]
  },
  {
   "cell_type": "code",
   "execution_count": 2,
   "id": "2f33dfa0",
   "metadata": {},
   "outputs": [],
   "source": [
    "text = extract_text('COV_vaccine_report_6Jan.pdf')"
   ]
  },
  {
   "cell_type": "code",
   "execution_count": 3,
   "id": "739f5940",
   "metadata": {},
   "outputs": [
    {
     "name": "stdout",
     "output_type": "stream",
     "text": [
      "Cumulative Coverage Report of COVID-19 Vaccination\n",
      "\n",
      "(As on 07 Jan'22 at 7 AM)\n",
      "\n",
      "1st Dose\n",
      "85,59,26,860\n",
      "\n",
      "(23,38,189 in last 24 \n",
      "Hours )\n",
      "0\n",
      "\n",
      "Beneficiaries Vaccinated\n",
      "\n",
      "18+ Population\n",
      "2nd Dose\n",
      "62,39,33,733\n",
      "\n",
      "Total Doses\n",
      "1,47,98,60,593\n",
      "\n",
      "15-18 Years\n",
      "1st Dose\n",
      "1,68,20,563\n",
      "\n",
      "(55,47,284 in last 24 \n",
      "(32,09,095 in last 24 \n",
      "Hours)\n",
      "Hours)\n",
      "0\n",
      "0\n",
      "Beneficiaries Vaccinated\n",
      "\n",
      "(38,99,772 in last 24 \n",
      "Hours )\n",
      "0\n",
      "\n",
      "S. No.\n",
      "\n",
      "State/UT\n",
      "\n",
      "1st Dose\n",
      "\n",
      "Total Doses\n",
      "\n",
      "18+ Population\n",
      "2nd Dose\n",
      "\n",
      "15-18 Years\n",
      "1st Dose\n",
      "\n",
      "A & N Islands\n",
      "Andhra Pradesh\n",
      "Arunachal Pradesh\n",
      "Assam\n",
      "Bihar\n",
      "Chandigarh\n",
      "Chhattisgarh\n",
      "Dadra & Nagar \n",
      "Haveli\n",
      "Daman & Diu\n",
      "\n",
      "1\n",
      "2\n",
      "3\n",
      "4\n",
      "5\n",
      "6\n",
      "7\n",
      "8\n",
      "9\n",
      "10 Delhi\n",
      "11 Goa\n",
      "12 Gujarat\n",
      "13 Haryana\n",
      "14 Himachal Pradesh\n",
      "15\n",
      "Jammu & Kashmir\n",
      "16\n",
      "Jharkhand\n",
      "17 Karnataka\n",
      "18 Kerala\n",
      "19 Ladakh\n",
      "20 Lakshadweep\n",
      "21 Madhya Pradesh\n",
      "22 Maharashtra\n",
      "23 Manipur\n",
      "24 Meghalaya\n",
      "25 Mizoram\n",
      "26 Nagaland\n",
      "27 Odisha\n",
      "28 Puducherry\n",
      "29 Punjab\n",
      "30 Rajasthan\n",
      "31\n",
      "Sikkim\n",
      "32 Tamil Nadu\n",
      "33 Telangana\n",
      "34 Tripura\n",
      "35 Uttar Pradesh\n",
      "36 Uttarakhand\n",
      "37 West Bengal\n",
      "38 Miscellaneous\n",
      "\n",
      "3,03,014\n",
      "4,00,40,106\n",
      "8,10,353\n",
      "2,18,86,756\n",
      "5,83,66,285\n",
      "10,22,134\n",
      "1,79,34,355\n",
      "4,13,460\n",
      "2,92,891\n",
      "1,55,40,891\n",
      "13,16,819\n",
      "4,74,68,272\n",
      "2,06,56,378\n",
      "59,18,608\n",
      "97,33,909\n",
      "1,89,11,959\n",
      "4,81,98,999\n",
      "2,63,15,340\n",
      "2,15,505\n",
      "56,116\n",
      "5,27,06,649\n",
      "8,09,78,376\n",
      "13,32,006\n",
      "12,39,868\n",
      "7,48,649\n",
      "7,59,807\n",
      "2,96,25,569\n",
      "8,52,558\n",
      "1,73,42,939\n",
      "4,73,42,706\n",
      "5,29,004\n",
      "5,05,67,082\n",
      "2,81,96,372\n",
      "25,95,487\n",
      "13,05,03,000\n",
      "78,89,943\n",
      "6,50,76,804\n",
      "22,37,891\n",
      "\n",
      "2,95,445\n",
      "3,03,41,059\n",
      "6,54,613\n",
      "1,61,93,435\n",
      "4,31,60,749\n",
      "7,90,907\n",
      "1,25,20,350\n",
      "2,92,652\n",
      "2,43,198\n",
      "1,15,14,282\n",
      "11,17,855\n",
      "4,32,62,275\n",
      "1,50,81,232\n",
      "55,08,907\n",
      "92,39,778\n",
      "1,16,24,042\n",
      "3,93,61,397\n",
      "2,14,88,770\n",
      "1,76,007\n",
      "53,021\n",
      "5,04,76,682\n",
      "5,52,81,196\n",
      "10,02,222\n",
      "8,92,424\n",
      "5,89,637\n",
      "5,78,994\n",
      "2,17,08,008\n",
      "5,74,660\n",
      "96,70,041\n",
      "3,58,75,931\n",
      "4,84,387\n",
      "3,47,34,530\n",
      "1,97,64,607\n",
      "21,38,273\n",
      "7,68,83,945\n",
      "65,21,386\n",
      "4,22,66,237\n",
      "15,70,599\n",
      "\n",
      "5,98,459\n",
      "7,03,81,165\n",
      "14,64,966\n",
      "3,80,80,191\n",
      "10,15,27,034\n",
      "1813041\n",
      "3,04,54,705\n",
      "706112\n",
      "536089\n",
      "2,70,55,173\n",
      "2434674\n",
      "9,07,30,547\n",
      "3,57,37,610\n",
      "1,14,27,515\n",
      "1,89,73,687\n",
      "3,05,36,001\n",
      "8,75,60,396\n",
      "4,78,04,110\n",
      "391512\n",
      "109137\n",
      "10,31,83,331\n",
      "13,62,59,572\n",
      "2334228\n",
      "2132292\n",
      "1338286\n",
      "13,38,801\n",
      "5,13,33,577\n",
      "1427218\n",
      "2,70,12,980\n",
      "8,32,18,637\n",
      "1013391\n",
      "8,53,01,612\n",
      "4,79,60,979\n",
      "47,33,760\n",
      "20,73,86,945\n",
      "1,44,11,329\n",
      "10,73,43,041\n",
      "38,08,490\n",
      "\n",
      "8,198\n",
      "15,63,014\n",
      "8,685\n",
      "4,33,952\n",
      "11,03,844\n",
      "9586\n",
      "6,17,822\n",
      "13793\n",
      "8656\n",
      "1,47,072\n",
      "28581\n",
      "16,29,364\n",
      "4,21,616\n",
      "2,11,238\n",
      "1,46,783\n",
      "2,00,360\n",
      "13,38,277\n",
      "2,15,848\n",
      "4207\n",
      "1673\n",
      "18,84,804\n",
      "11,22,523\n",
      "3462\n",
      "4163\n",
      "4678\n",
      "854\n",
      "3,29,053\n",
      "11293\n",
      "18,626\n",
      "14,29,310\n",
      "9129\n",
      "12,17,515\n",
      "4,28,895\n",
      "61,227\n",
      "12,16,167\n",
      "2,30,067\n",
      "7,36,228\n",
      "0\n",
      "\n",
      "\f",
      "\n"
     ]
    }
   ],
   "source": [
    "print(text)"
   ]
  },
  {
   "cell_type": "code",
   "execution_count": null,
   "id": "2e28e728",
   "metadata": {},
   "outputs": [],
   "source": [
    "# import re"
   ]
  },
  {
   "cell_type": "code",
   "execution_count": null,
   "id": "b8967a9e",
   "metadata": {},
   "outputs": [],
   "source": [
    "# print(text)"
   ]
  },
  {
   "cell_type": "code",
   "execution_count": null,
   "id": "01197018",
   "metadata": {},
   "outputs": [],
   "source": [
    "# import pdfplumber"
   ]
  },
  {
   "cell_type": "code",
   "execution_count": null,
   "id": "cc20c6f3",
   "metadata": {},
   "outputs": [],
   "source": [
    "# with pdfplumber.open('COV_vaccine_report_6Jan.pdf') as pdf:\n",
    "#     first_page = pdf.pages\n",
    "#     print(first_page)"
   ]
  },
  {
   "cell_type": "code",
   "execution_count": null,
   "id": "8a970f3a",
   "metadata": {},
   "outputs": [],
   "source": [
    "# from io import StringIO"
   ]
  },
  {
   "cell_type": "code",
   "execution_count": null,
   "id": "0d2f94a1",
   "metadata": {},
   "outputs": [],
   "source": [
    "# from pdfminer.high_level import extract_text_to_fp\n",
    "# from pdfminer.layout import LAParams\n",
    "# output = StringIO()\n",
    "# with open('COV_vaccine_report_6Jan.pdf', 'rb') as pdf_file:\n",
    "#     extract_text_to_fp(pdf_file, output, laparams=LAParams(), output_type='html', codec=None)\n",
    "# with open('COV_vaccine_report_6Jan.pdf', 'a') as html_file:\n",
    "#     html_file.write(output.getvalue())"
   ]
  },
  {
   "cell_type": "code",
   "execution_count": null,
   "id": "2651a0c4",
   "metadata": {},
   "outputs": [],
   "source": [
    "from pdfminer.high_level import extract_text\n",
    "text_new = extract_text('COV_vaccine_report_6Jan.pdf')"
   ]
  },
  {
   "cell_type": "code",
   "execution_count": null,
   "id": "ecec59bc",
   "metadata": {},
   "outputs": [],
   "source": [
    "# print(text_new)"
   ]
  },
  {
   "cell_type": "code",
   "execution_count": null,
   "id": "3f548184",
   "metadata": {},
   "outputs": [],
   "source": [
    "# Used https://pdftables.com/blog/convert-pdf-to-csv to convert pdf to excel"
   ]
  },
  {
   "cell_type": "code",
   "execution_count": null,
   "id": "4446c52f",
   "metadata": {},
   "outputs": [],
   "source": [
    "import pandas as pd"
   ]
  },
  {
   "cell_type": "code",
   "execution_count": null,
   "id": "2d67c3d3",
   "metadata": {},
   "outputs": [],
   "source": [
    "df = pd.read_excel(\"COV_vaccine_report_6Jan.xlsx\")\n",
    "df.head(10)"
   ]
  },
  {
   "cell_type": "code",
   "execution_count": null,
   "id": "e71e904f",
   "metadata": {},
   "outputs": [],
   "source": [
    "df.tail(4)"
   ]
  },
  {
   "cell_type": "code",
   "execution_count": null,
   "id": "ef68118c",
   "metadata": {},
   "outputs": [],
   "source": [
    "df.columns"
   ]
  },
  {
   "cell_type": "code",
   "execution_count": null,
   "id": "1beb398c",
   "metadata": {},
   "outputs": [],
   "source": [
    "# df.drop(\"Cumulative Coverage Report of COVID-19 Vaccination\", axis=1, inplace=True)"
   ]
  },
  {
   "cell_type": "code",
   "execution_count": null,
   "id": "98d070d0",
   "metadata": {},
   "outputs": [],
   "source": [
    "df.columns = ['sr_no', 'state', 'first_dose' , 'second_dose', 'total_doses' , '15_18_first_dose']"
   ]
  },
  {
   "cell_type": "code",
   "execution_count": null,
   "id": "e89cc82a",
   "metadata": {},
   "outputs": [],
   "source": [
    "df.columns"
   ]
  },
  {
   "cell_type": "code",
   "execution_count": null,
   "id": "a4f7e0c4",
   "metadata": {},
   "outputs": [],
   "source": [
    "df.head(15)"
   ]
  },
  {
   "cell_type": "code",
   "execution_count": null,
   "id": "881b6bc9",
   "metadata": {},
   "outputs": [],
   "source": [
    "df.iloc[9:]"
   ]
  },
  {
   "cell_type": "code",
   "execution_count": 1,
   "id": "6ce556a0",
   "metadata": {},
   "outputs": [
    {
     "name": "stderr",
     "output_type": "stream",
     "text": [
      "/Users/areena.arora/.pyenv/versions/3.10.0/lib/python3.10/site-packages/pandas/compat/__init__.py:124: UserWarning: Could not import the lzma module. Your installed Python is incomplete. Attempting to use lzma compression will result in a RuntimeError.\n",
      "  warnings.warn(msg)\n"
     ]
    },
    {
     "ename": "PdfReadError",
     "evalue": "EOF marker not found",
     "output_type": "error",
     "traceback": [
      "\u001b[0;31m---------------------------------------------------------------------------\u001b[0m",
      "\u001b[0;31mPdfReadError\u001b[0m                              Traceback (most recent call last)",
      "\u001b[0;32m/var/folders/81/2s24wkdd02j9528vnjsx7m080000gn/T/ipykernel_25348/4094666310.py\u001b[0m in \u001b[0;36m<module>\u001b[0;34m\u001b[0m\n\u001b[1;32m      1\u001b[0m \u001b[0;32mimport\u001b[0m \u001b[0mcamelot\u001b[0m\u001b[0;34m\u001b[0m\u001b[0;34m\u001b[0m\u001b[0m\n\u001b[0;32m----> 2\u001b[0;31m \u001b[0mtables\u001b[0m \u001b[0;34m=\u001b[0m \u001b[0mcamelot\u001b[0m\u001b[0;34m.\u001b[0m\u001b[0mread_pdf\u001b[0m\u001b[0;34m(\u001b[0m\u001b[0;34m'COV_vaccine_report_6Jan.pdf'\u001b[0m\u001b[0;34m,\u001b[0m \u001b[0mflavor\u001b[0m\u001b[0;34m=\u001b[0m\u001b[0;34m'stream'\u001b[0m\u001b[0;34m)\u001b[0m\u001b[0;34m\u001b[0m\u001b[0;34m\u001b[0m\u001b[0m\n\u001b[0m\u001b[1;32m      3\u001b[0m \u001b[0mtables\u001b[0m\u001b[0;34m\u001b[0m\u001b[0;34m\u001b[0m\u001b[0m\n",
      "\u001b[0;32m~/.pyenv/versions/3.10.0/lib/python3.10/site-packages/camelot/io.py\u001b[0m in \u001b[0;36mread_pdf\u001b[0;34m(filepath, pages, password, flavor, suppress_stdout, layout_kwargs, **kwargs)\u001b[0m\n\u001b[1;32m    111\u001b[0m         \u001b[0mp\u001b[0m \u001b[0;34m=\u001b[0m \u001b[0mPDFHandler\u001b[0m\u001b[0;34m(\u001b[0m\u001b[0mfilepath\u001b[0m\u001b[0;34m,\u001b[0m \u001b[0mpages\u001b[0m\u001b[0;34m=\u001b[0m\u001b[0mpages\u001b[0m\u001b[0;34m,\u001b[0m \u001b[0mpassword\u001b[0m\u001b[0;34m=\u001b[0m\u001b[0mpassword\u001b[0m\u001b[0;34m)\u001b[0m\u001b[0;34m\u001b[0m\u001b[0;34m\u001b[0m\u001b[0m\n\u001b[1;32m    112\u001b[0m         \u001b[0mkwargs\u001b[0m \u001b[0;34m=\u001b[0m \u001b[0mremove_extra\u001b[0m\u001b[0;34m(\u001b[0m\u001b[0mkwargs\u001b[0m\u001b[0;34m,\u001b[0m \u001b[0mflavor\u001b[0m\u001b[0;34m=\u001b[0m\u001b[0mflavor\u001b[0m\u001b[0;34m)\u001b[0m\u001b[0;34m\u001b[0m\u001b[0;34m\u001b[0m\u001b[0m\n\u001b[0;32m--> 113\u001b[0;31m         tables = p.parse(\n\u001b[0m\u001b[1;32m    114\u001b[0m             \u001b[0mflavor\u001b[0m\u001b[0;34m=\u001b[0m\u001b[0mflavor\u001b[0m\u001b[0;34m,\u001b[0m\u001b[0;34m\u001b[0m\u001b[0;34m\u001b[0m\u001b[0m\n\u001b[1;32m    115\u001b[0m             \u001b[0msuppress_stdout\u001b[0m\u001b[0;34m=\u001b[0m\u001b[0msuppress_stdout\u001b[0m\u001b[0;34m,\u001b[0m\u001b[0;34m\u001b[0m\u001b[0;34m\u001b[0m\u001b[0m\n",
      "\u001b[0;32m~/.pyenv/versions/3.10.0/lib/python3.10/site-packages/camelot/handlers.py\u001b[0m in \u001b[0;36mparse\u001b[0;34m(self, flavor, suppress_stdout, layout_kwargs, **kwargs)\u001b[0m\n\u001b[1;32m    167\u001b[0m         \u001b[0;32mwith\u001b[0m \u001b[0mTemporaryDirectory\u001b[0m\u001b[0;34m(\u001b[0m\u001b[0;34m)\u001b[0m \u001b[0;32mas\u001b[0m \u001b[0mtempdir\u001b[0m\u001b[0;34m:\u001b[0m\u001b[0;34m\u001b[0m\u001b[0;34m\u001b[0m\u001b[0m\n\u001b[1;32m    168\u001b[0m             \u001b[0;32mfor\u001b[0m \u001b[0mp\u001b[0m \u001b[0;32min\u001b[0m \u001b[0mself\u001b[0m\u001b[0;34m.\u001b[0m\u001b[0mpages\u001b[0m\u001b[0;34m:\u001b[0m\u001b[0;34m\u001b[0m\u001b[0;34m\u001b[0m\u001b[0m\n\u001b[0;32m--> 169\u001b[0;31m                 \u001b[0mself\u001b[0m\u001b[0;34m.\u001b[0m\u001b[0m_save_page\u001b[0m\u001b[0;34m(\u001b[0m\u001b[0mself\u001b[0m\u001b[0;34m.\u001b[0m\u001b[0mfilepath\u001b[0m\u001b[0;34m,\u001b[0m \u001b[0mp\u001b[0m\u001b[0;34m,\u001b[0m \u001b[0mtempdir\u001b[0m\u001b[0;34m)\u001b[0m\u001b[0;34m\u001b[0m\u001b[0;34m\u001b[0m\u001b[0m\n\u001b[0m\u001b[1;32m    170\u001b[0m             \u001b[0mpages\u001b[0m \u001b[0;34m=\u001b[0m \u001b[0;34m[\u001b[0m\u001b[0mos\u001b[0m\u001b[0;34m.\u001b[0m\u001b[0mpath\u001b[0m\u001b[0;34m.\u001b[0m\u001b[0mjoin\u001b[0m\u001b[0;34m(\u001b[0m\u001b[0mtempdir\u001b[0m\u001b[0;34m,\u001b[0m \u001b[0;34mf\"page-{p}.pdf\"\u001b[0m\u001b[0;34m)\u001b[0m \u001b[0;32mfor\u001b[0m \u001b[0mp\u001b[0m \u001b[0;32min\u001b[0m \u001b[0mself\u001b[0m\u001b[0;34m.\u001b[0m\u001b[0mpages\u001b[0m\u001b[0;34m]\u001b[0m\u001b[0;34m\u001b[0m\u001b[0;34m\u001b[0m\u001b[0m\n\u001b[1;32m    171\u001b[0m             \u001b[0mparser\u001b[0m \u001b[0;34m=\u001b[0m \u001b[0mLattice\u001b[0m\u001b[0;34m(\u001b[0m\u001b[0;34m**\u001b[0m\u001b[0mkwargs\u001b[0m\u001b[0;34m)\u001b[0m \u001b[0;32mif\u001b[0m \u001b[0mflavor\u001b[0m \u001b[0;34m==\u001b[0m \u001b[0;34m\"lattice\"\u001b[0m \u001b[0;32melse\u001b[0m \u001b[0mStream\u001b[0m\u001b[0;34m(\u001b[0m\u001b[0;34m**\u001b[0m\u001b[0mkwargs\u001b[0m\u001b[0;34m)\u001b[0m\u001b[0;34m\u001b[0m\u001b[0;34m\u001b[0m\u001b[0m\n",
      "\u001b[0;32m~/.pyenv/versions/3.10.0/lib/python3.10/site-packages/camelot/handlers.py\u001b[0m in \u001b[0;36m_save_page\u001b[0;34m(self, filepath, page, temp)\u001b[0m\n\u001b[1;32m    106\u001b[0m         \"\"\"\n\u001b[1;32m    107\u001b[0m         \u001b[0;32mwith\u001b[0m \u001b[0mopen\u001b[0m\u001b[0;34m(\u001b[0m\u001b[0mfilepath\u001b[0m\u001b[0;34m,\u001b[0m \u001b[0;34m\"rb\"\u001b[0m\u001b[0;34m)\u001b[0m \u001b[0;32mas\u001b[0m \u001b[0mfileobj\u001b[0m\u001b[0;34m:\u001b[0m\u001b[0;34m\u001b[0m\u001b[0;34m\u001b[0m\u001b[0m\n\u001b[0;32m--> 108\u001b[0;31m             \u001b[0minfile\u001b[0m \u001b[0;34m=\u001b[0m \u001b[0mPdfFileReader\u001b[0m\u001b[0;34m(\u001b[0m\u001b[0mfileobj\u001b[0m\u001b[0;34m,\u001b[0m \u001b[0mstrict\u001b[0m\u001b[0;34m=\u001b[0m\u001b[0;32mFalse\u001b[0m\u001b[0;34m)\u001b[0m\u001b[0;34m\u001b[0m\u001b[0;34m\u001b[0m\u001b[0m\n\u001b[0m\u001b[1;32m    109\u001b[0m             \u001b[0;32mif\u001b[0m \u001b[0minfile\u001b[0m\u001b[0;34m.\u001b[0m\u001b[0misEncrypted\u001b[0m\u001b[0;34m:\u001b[0m\u001b[0;34m\u001b[0m\u001b[0;34m\u001b[0m\u001b[0m\n\u001b[1;32m    110\u001b[0m                 \u001b[0minfile\u001b[0m\u001b[0;34m.\u001b[0m\u001b[0mdecrypt\u001b[0m\u001b[0;34m(\u001b[0m\u001b[0mself\u001b[0m\u001b[0;34m.\u001b[0m\u001b[0mpassword\u001b[0m\u001b[0;34m)\u001b[0m\u001b[0;34m\u001b[0m\u001b[0;34m\u001b[0m\u001b[0m\n",
      "\u001b[0;32m~/.pyenv/versions/3.10.0/lib/python3.10/site-packages/PyPDF2/pdf.py\u001b[0m in \u001b[0;36m__init__\u001b[0;34m(self, stream, strict, warndest, overwriteWarnings)\u001b[0m\n\u001b[1;32m   1082\u001b[0m             \u001b[0mstream\u001b[0m \u001b[0;34m=\u001b[0m \u001b[0mBytesIO\u001b[0m\u001b[0;34m(\u001b[0m\u001b[0mb_\u001b[0m\u001b[0;34m(\u001b[0m\u001b[0mfileobj\u001b[0m\u001b[0;34m.\u001b[0m\u001b[0mread\u001b[0m\u001b[0;34m(\u001b[0m\u001b[0;34m)\u001b[0m\u001b[0;34m)\u001b[0m\u001b[0;34m)\u001b[0m\u001b[0;34m\u001b[0m\u001b[0;34m\u001b[0m\u001b[0m\n\u001b[1;32m   1083\u001b[0m             \u001b[0mfileobj\u001b[0m\u001b[0;34m.\u001b[0m\u001b[0mclose\u001b[0m\u001b[0;34m(\u001b[0m\u001b[0;34m)\u001b[0m\u001b[0;34m\u001b[0m\u001b[0;34m\u001b[0m\u001b[0m\n\u001b[0;32m-> 1084\u001b[0;31m         \u001b[0mself\u001b[0m\u001b[0;34m.\u001b[0m\u001b[0mread\u001b[0m\u001b[0;34m(\u001b[0m\u001b[0mstream\u001b[0m\u001b[0;34m)\u001b[0m\u001b[0;34m\u001b[0m\u001b[0;34m\u001b[0m\u001b[0m\n\u001b[0m\u001b[1;32m   1085\u001b[0m         \u001b[0mself\u001b[0m\u001b[0;34m.\u001b[0m\u001b[0mstream\u001b[0m \u001b[0;34m=\u001b[0m \u001b[0mstream\u001b[0m\u001b[0;34m\u001b[0m\u001b[0;34m\u001b[0m\u001b[0m\n\u001b[1;32m   1086\u001b[0m \u001b[0;34m\u001b[0m\u001b[0m\n",
      "\u001b[0;32m~/.pyenv/versions/3.10.0/lib/python3.10/site-packages/PyPDF2/pdf.py\u001b[0m in \u001b[0;36mread\u001b[0;34m(self, stream)\u001b[0m\n\u001b[1;32m   1694\u001b[0m         \u001b[0;32mwhile\u001b[0m \u001b[0mline\u001b[0m\u001b[0;34m[\u001b[0m\u001b[0;34m:\u001b[0m\u001b[0;36m5\u001b[0m\u001b[0;34m]\u001b[0m \u001b[0;34m!=\u001b[0m \u001b[0mb_\u001b[0m\u001b[0;34m(\u001b[0m\u001b[0;34m\"%%EOF\"\u001b[0m\u001b[0;34m)\u001b[0m\u001b[0;34m:\u001b[0m\u001b[0;34m\u001b[0m\u001b[0;34m\u001b[0m\u001b[0m\n\u001b[1;32m   1695\u001b[0m             \u001b[0;32mif\u001b[0m \u001b[0mstream\u001b[0m\u001b[0;34m.\u001b[0m\u001b[0mtell\u001b[0m\u001b[0;34m(\u001b[0m\u001b[0;34m)\u001b[0m \u001b[0;34m<\u001b[0m \u001b[0mlast1K\u001b[0m\u001b[0;34m:\u001b[0m\u001b[0;34m\u001b[0m\u001b[0;34m\u001b[0m\u001b[0m\n\u001b[0;32m-> 1696\u001b[0;31m                 \u001b[0;32mraise\u001b[0m \u001b[0mutils\u001b[0m\u001b[0;34m.\u001b[0m\u001b[0mPdfReadError\u001b[0m\u001b[0;34m(\u001b[0m\u001b[0;34m\"EOF marker not found\"\u001b[0m\u001b[0;34m)\u001b[0m\u001b[0;34m\u001b[0m\u001b[0;34m\u001b[0m\u001b[0m\n\u001b[0m\u001b[1;32m   1697\u001b[0m             \u001b[0mline\u001b[0m \u001b[0;34m=\u001b[0m \u001b[0mself\u001b[0m\u001b[0;34m.\u001b[0m\u001b[0mreadNextEndLine\u001b[0m\u001b[0;34m(\u001b[0m\u001b[0mstream\u001b[0m\u001b[0;34m)\u001b[0m\u001b[0;34m\u001b[0m\u001b[0;34m\u001b[0m\u001b[0m\n\u001b[1;32m   1698\u001b[0m             \u001b[0;32mif\u001b[0m \u001b[0mdebug\u001b[0m\u001b[0;34m:\u001b[0m \u001b[0mprint\u001b[0m\u001b[0;34m(\u001b[0m\u001b[0;34m\"  line:\"\u001b[0m\u001b[0;34m,\u001b[0m\u001b[0mline\u001b[0m\u001b[0;34m)\u001b[0m\u001b[0;34m\u001b[0m\u001b[0;34m\u001b[0m\u001b[0m\n",
      "\u001b[0;31mPdfReadError\u001b[0m: EOF marker not found"
     ]
    }
   ],
   "source": [
    "import camelot\n",
    "tables = camelot.read_pdf('COV_vaccine_report_6Jan.pdf', flavor='stream')\n",
    "tables"
   ]
  },
  {
   "cell_type": "code",
   "execution_count": null,
   "id": "60640008",
   "metadata": {},
   "outputs": [],
   "source": []
  }
 ],
 "metadata": {
  "kernelspec": {
   "display_name": "Python 3 (ipykernel)",
   "language": "python",
   "name": "python3"
  },
  "language_info": {
   "codemirror_mode": {
    "name": "ipython",
    "version": 3
   },
   "file_extension": ".py",
   "mimetype": "text/x-python",
   "name": "python",
   "nbconvert_exporter": "python",
   "pygments_lexer": "ipython3",
   "version": "3.10.0"
  }
 },
 "nbformat": 4,
 "nbformat_minor": 5
}
